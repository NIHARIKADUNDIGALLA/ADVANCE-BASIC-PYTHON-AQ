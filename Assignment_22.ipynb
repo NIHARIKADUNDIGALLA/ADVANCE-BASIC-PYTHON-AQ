{
 "cells": [
  {
   "cell_type": "raw",
   "id": "5b8a1899",
   "metadata": {},
   "source": [
    "1) What are the benefits of the built-in array package, if any?\n",
    "Ans:Arrays are similar to lists , the size of the array is not fixed in Python , arrays can grow or shrink in memory \n",
    "    dynamically."
   ]
  },
  {
   "cell_type": "raw",
   "id": "b6bc4e52",
   "metadata": {},
   "source": [
    "2)Describe the main differences between the array and numpy packages.\n",
    "Ans:An array consumes less memory and is convenient to use. \n",
    "    NumPy uses much less memory to store data and it provides a mechanism of specifying the data types."
   ]
  },
  {
   "cell_type": "raw",
   "id": "2955d7f2",
   "metadata": {},
   "source": [
    "3) Explain the distinctions between the empty, ones, and zeros functions.\n",
    "Ans:zeros() function is used to create an array based on the particular shape and type. \n",
    "All array elements are initialized to 0, which is created by the zeros() function. ones() function works like the zeros() function. \n",
    "But the elements of the array created by the ones() function are initialized to 1.\n",
    "empty() function is used to return new array of a given shape and type. It has random values and uninitialized entries."
   ]
  },
  {
   "cell_type": "code",
   "execution_count": null,
   "id": "b14fc024",
   "metadata": {},
   "outputs": [],
   "source": []
  }
 ],
 "metadata": {
  "kernelspec": {
   "display_name": "Python 3 (ipykernel)",
   "language": "python",
   "name": "python3"
  },
  "language_info": {
   "codemirror_mode": {
    "name": "ipython",
    "version": 3
   },
   "file_extension": ".py",
   "mimetype": "text/x-python",
   "name": "python",
   "nbconvert_exporter": "python",
   "pygments_lexer": "ipython3",
   "version": "3.9.7"
  }
 },
 "nbformat": 4,
 "nbformat_minor": 5
}
