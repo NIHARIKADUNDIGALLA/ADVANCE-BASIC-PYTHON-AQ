{
 "cells": [
  {
   "cell_type": "raw",
   "id": "ced93275",
   "metadata": {},
   "source": [
    "1) Explain the distinctions between indexing and slicing.\n",
    "\n",
    "Ans: Indexing referring to an element of an iterable by its position within the iterable. \n",
    "    Slicing getting a subset of elements from an iterable based on their indices"
   ]
  },
  {
   "cell_type": "raw",
   "id": "38922df5",
   "metadata": {},
   "source": [
    "2) What happens if one of the slicing expressions indexes is out of range?\n",
    "Ans: It returns an empty sequence."
   ]
  },
  {
   "cell_type": "raw",
   "id": "85957452",
   "metadata": {},
   "source": [
    "3)What is the concept of an unbalanced matrix?\n",
    "\n",
    "Ans:Unbalanced matrix is when number of rows are not equal to number of columns."
   ]
  },
  {
   "cell_type": "code",
   "execution_count": null,
   "id": "1500179d",
   "metadata": {},
   "outputs": [],
   "source": []
  }
 ],
 "metadata": {
  "kernelspec": {
   "display_name": "Python 3 (ipykernel)",
   "language": "python",
   "name": "python3"
  },
  "language_info": {
   "codemirror_mode": {
    "name": "ipython",
    "version": 3
   },
   "file_extension": ".py",
   "mimetype": "text/x-python",
   "name": "python",
   "nbconvert_exporter": "python",
   "pygments_lexer": "ipython3",
   "version": "3.9.7"
  }
 },
 "nbformat": 4,
 "nbformat_minor": 5
}
