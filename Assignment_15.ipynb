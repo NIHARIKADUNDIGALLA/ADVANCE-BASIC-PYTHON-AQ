{
 "cells": [
  {
   "cell_type": "raw",
   "id": "eb0d07dd",
   "metadata": {},
   "source": [
    "1) What is monkey patching in Python?\n",
    "Ans:Modifying or updating a piece of code or class or any module at the runtime."
   ]
  },
  {
   "cell_type": "raw",
   "id": "e8bc0a07",
   "metadata": {},
   "source": [
    "2) What is the difference between a shallow copy and deep copy?\n",
    "Ans:In Shallow copy, a copy of the original object is stored and only the reference address is finally copied. \n",
    "    In Deep copy, the copy of the original object and the repetitive copies both are stored."
   ]
  },
  {
   "cell_type": "raw",
   "id": "47fcc544",
   "metadata": {},
   "source": [
    "3) What is the maximum possible length of an identifier?\n",
    "Ans: 79 characters."
   ]
  },
  {
   "cell_type": "code",
   "execution_count": null,
   "id": "8627c0e4",
   "metadata": {},
   "outputs": [],
   "source": []
  }
 ],
 "metadata": {
  "kernelspec": {
   "display_name": "Python 3 (ipykernel)",
   "language": "python",
   "name": "python3"
  },
  "language_info": {
   "codemirror_mode": {
    "name": "ipython",
    "version": 3
   },
   "file_extension": ".py",
   "mimetype": "text/x-python",
   "name": "python",
   "nbconvert_exporter": "python",
   "pygments_lexer": "ipython3",
   "version": "3.9.7"
  }
 },
 "nbformat": 4,
 "nbformat_minor": 5
}
