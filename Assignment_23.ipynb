{
 "cells": [
  {
   "cell_type": "raw",
   "id": "ef962112",
   "metadata": {},
   "source": [
    "1)What is a histogram, exactly?Name a numpy method for creating such a graph.\n",
    "\n",
    "Ans:A histogram is the most commonly used graph to show frequency distributions.\n",
    "NumPy has a numpy. histogram() function that is a graphical representation of the frequency distribution of data."
   ]
  },
  {
   "cell_type": "raw",
   "id": "fdad892e",
   "metadata": {},
   "source": [
    "2)If necessary, how do you change the aspect ratios between the X and Y axes?\n",
    "Ans:This ratio can be modified by using the matplotlib.axes.Axes.set_aspect() function.\n",
    "\n"
   ]
  },
  {
   "cell_type": "raw",
   "id": "1383bbcb",
   "metadata": {},
   "source": [
    "3) Can string data be stored in numpy arrays?\n",
    "Ans:The elements of a NumPy arrays are usually numbers, boolians, strings, or other objects."
   ]
  }
 ],
 "metadata": {
  "kernelspec": {
   "display_name": "Python 3 (ipykernel)",
   "language": "python",
   "name": "python3"
  },
  "language_info": {
   "codemirror_mode": {
    "name": "ipython",
    "version": 3
   },
   "file_extension": ".py",
   "mimetype": "text/x-python",
   "name": "python",
   "nbconvert_exporter": "python",
   "pygments_lexer": "ipython3",
   "version": "3.9.7"
  }
 },
 "nbformat": 4,
 "nbformat_minor": 5
}
