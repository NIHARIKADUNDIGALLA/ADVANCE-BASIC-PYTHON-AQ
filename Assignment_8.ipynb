{
 "cells": [
  {
   "cell_type": "raw",
   "id": "dda379e2",
   "metadata": {},
   "source": [
    "1) Why do you no longer use string-based exceptions?\n",
    "\n",
    "Ans: A sit converts everything into string and stores in string variable."
   ]
  },
  {
   "cell_type": "raw",
   "id": "e5ce158e",
   "metadata": {},
   "source": [
    "2) Describe two methods for specifying the text of an exception objects error message.\n",
    "Ans: str(e) and repr(e)"
   ]
  }
 ],
 "metadata": {
  "kernelspec": {
   "display_name": "Python 3 (ipykernel)",
   "language": "python",
   "name": "python3"
  },
  "language_info": {
   "codemirror_mode": {
    "name": "ipython",
    "version": 3
   },
   "file_extension": ".py",
   "mimetype": "text/x-python",
   "name": "python",
   "nbconvert_exporter": "python",
   "pygments_lexer": "ipython3",
   "version": "3.9.7"
  }
 },
 "nbformat": 4,
 "nbformat_minor": 5
}
