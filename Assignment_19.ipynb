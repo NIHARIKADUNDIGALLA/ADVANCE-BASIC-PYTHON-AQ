{
 "cells": [
  {
   "cell_type": "raw",
   "id": "e5646257",
   "metadata": {},
   "source": [
    "1)What kind of knowledge is stored in a class?\n",
    "Ans: Defining behaviors, initializer."
   ]
  },
  {
   "cell_type": "raw",
   "id": "fbf6c7ca",
   "metadata": {},
   "source": [
    "2)What is a method?\n",
    "Ans:A method is a label that you can call on an object; it is a piece of code to execute on that object.\n"
   ]
  },
  {
   "cell_type": "raw",
   "id": "5ded6506",
   "metadata": {},
   "source": [
    "3)Is inheritance supported in Python, and if so, what is the syntax?\n",
    "Ans:class derived_classname : access base_classname{ /*define class body*/ };\n"
   ]
  },
  {
   "cell_type": "raw",
   "id": "2764438f",
   "metadata": {},
   "source": [
    "4)How do you distinguish between a class variable and an instance variable?\n",
    "Ans:Class variables are shared across all objects while instance variables are for data unique to each instance. "
   ]
  }
 ],
 "metadata": {
  "kernelspec": {
   "display_name": "Python 3 (ipykernel)",
   "language": "python",
   "name": "python3"
  },
  "language_info": {
   "codemirror_mode": {
    "name": "ipython",
    "version": 3
   },
   "file_extension": ".py",
   "mimetype": "text/x-python",
   "name": "python",
   "nbconvert_exporter": "python",
   "pygments_lexer": "ipython3",
   "version": "3.9.7"
  }
 },
 "nbformat": 4,
 "nbformat_minor": 5
}
