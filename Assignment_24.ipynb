{
 "cells": [
  {
   "cell_type": "raw",
   "id": "42e220c1",
   "metadata": {},
   "source": [
    "1)Why is  _ _all_ _ in Python?\n",
    "Ans:A list of strings that define what variables have to be imported to another file is known as __all__ in Python."
   ]
  },
  {
   "cell_type": "raw",
   "id": "b0098470",
   "metadata": {},
   "source": [
    "2)What are some of a module's characteristics? \n",
    "Ans:Modules contain instructions, processing logic, and data.\n",
    "Modules can be separately compiled and stored in a library.\n",
    "Modules can be included in a program."
   ]
  },
  {
   "cell_type": "code",
   "execution_count": null,
   "id": "e7da7e14",
   "metadata": {},
   "outputs": [],
   "source": [
    "3)In what situation is it useful to refer to the _ _name_ _ attribute or the string '_ _main_ _'?\n",
    "Ans:Python files can function as independent applications or as reusable modules. \n",
    "    If the file was executed directly, without being imported, then the statement \"if __name__ == \"main\" \n",
    "    is used to run some code."
   ]
  }
 ],
 "metadata": {
  "kernelspec": {
   "display_name": "Python 3 (ipykernel)",
   "language": "python",
   "name": "python3"
  },
  "language_info": {
   "codemirror_mode": {
    "name": "ipython",
    "version": 3
   },
   "file_extension": ".py",
   "mimetype": "text/x-python",
   "name": "python",
   "nbconvert_exporter": "python",
   "pygments_lexer": "ipython3",
   "version": "3.9.7"
  }
 },
 "nbformat": 4,
 "nbformat_minor": 5
}
