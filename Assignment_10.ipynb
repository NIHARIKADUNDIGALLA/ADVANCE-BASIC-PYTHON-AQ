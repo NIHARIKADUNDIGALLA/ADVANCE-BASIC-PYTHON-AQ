{
 "cells": [
  {
   "cell_type": "raw",
   "id": "4ce047fa",
   "metadata": {},
   "source": [
    "1) What are the key differences in functionality between __getattr__ and __getattribute__?\n",
    "\n",
    "Ans: __getattribute__ has a default implementation, but __getattr__ does not have default implementation."
   ]
  },
  {
   "cell_type": "raw",
   "id": "a0703ecd",
   "metadata": {},
   "source": [
    "2) What is the difference between properties and descriptors?\n",
    "\n",
    "Ans: A descriptor is an attribute value that has one of the methods in the descriptor protocol. \n",
    "    Those methods are __get__() , __set__() , and __delete__() . If any of those methods are defined for an \n",
    "    attribute, it is said to be a descriptor.\n",
    "    Properties are used to  avoid formal getter and setter methods in your code. \n"
   ]
  }
 ],
 "metadata": {
  "kernelspec": {
   "display_name": "Python 3 (ipykernel)",
   "language": "python",
   "name": "python3"
  },
  "language_info": {
   "codemirror_mode": {
    "name": "ipython",
    "version": 3
   },
   "file_extension": ".py",
   "mimetype": "text/x-python",
   "name": "python",
   "nbconvert_exporter": "python",
   "pygments_lexer": "ipython3",
   "version": "3.9.7"
  }
 },
 "nbformat": 4,
 "nbformat_minor": 5
}
