{
 "cells": [
  {
   "cell_type": "code",
   "execution_count": null,
   "id": "4aa1ceee",
   "metadata": {},
   "outputs": [],
   "source": [
    "1)What is the benefit of referring to groups by name rather than by number in a standard expression?\n",
    "Ans:It adds readability and understandability to the code."
   ]
  },
  {
   "cell_type": "code",
   "execution_count": null,
   "id": "e65014f5",
   "metadata": {},
   "outputs": [],
   "source": [
    "2)In standard expressions, what is the difference between positive look-ahead and negative look-ahead?\n",
    "Ans:Positive lookahead matches if pattern matches what comes after the current location in the input string.\n",
    "    Negative lookahead matches if pattern does not match what comes after the current location in the input string.\n",
    "\n"
   ]
  }
 ],
 "metadata": {
  "kernelspec": {
   "display_name": "Python 3 (ipykernel)",
   "language": "python",
   "name": "python3"
  },
  "language_info": {
   "codemirror_mode": {
    "name": "ipython",
    "version": 3
   },
   "file_extension": ".py",
   "mimetype": "text/x-python",
   "name": "python",
   "nbconvert_exporter": "python",
   "pygments_lexer": "ipython3",
   "version": "3.9.7"
  }
 },
 "nbformat": 4,
 "nbformat_minor": 5
}
