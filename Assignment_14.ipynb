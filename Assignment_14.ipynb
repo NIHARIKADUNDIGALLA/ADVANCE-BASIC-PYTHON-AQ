{
 "cells": [
  {
   "cell_type": "code",
   "execution_count": 3,
   "id": "2532b24c",
   "metadata": {},
   "outputs": [
    {
     "data": {
      "text/plain": [
       "(1, 0)"
      ]
     },
     "execution_count": 3,
     "metadata": {},
     "output_type": "execute_result"
    }
   ],
   "source": [
    "#1)What is the smallest number of statements you'd have to write in most programming languages to\n",
    "#replace the Python expression a, b = a + b, a?\n",
    "\n",
    "#Ans:\n",
    "def replace(a,b):\n",
    "    c=a,b=a+b,a\n",
    "    return c\n",
    "\n",
    "replace(0,1)"
   ]
  },
  {
   "cell_type": "raw",
   "id": "2609369b",
   "metadata": {},
   "source": [
    "2) If a function is a generator function, what does it return?\n",
    "Ans: Generator function returns iterator object with a sequence of values."
   ]
  },
  {
   "cell_type": "raw",
   "id": "85348055",
   "metadata": {},
   "source": [
    "3) Identify at least one benefit of generators?\n",
    "Ans:Generators used to pipeline a number of operations.\n",
    "    Generators easy to  implement __iter__(), __next__(), and StopIteration ."
   ]
  }
 ],
 "metadata": {
  "kernelspec": {
   "display_name": "Python 3 (ipykernel)",
   "language": "python",
   "name": "python3"
  },
  "language_info": {
   "codemirror_mode": {
    "name": "ipython",
    "version": 3
   },
   "file_extension": ".py",
   "mimetype": "text/x-python",
   "name": "python",
   "nbconvert_exporter": "python",
   "pygments_lexer": "ipython3",
   "version": "3.9.7"
  }
 },
 "nbformat": 4,
 "nbformat_minor": 5
}
