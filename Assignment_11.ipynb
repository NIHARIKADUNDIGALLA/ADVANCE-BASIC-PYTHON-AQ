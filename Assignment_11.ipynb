{
 "cells": [
  {
   "cell_type": "raw",
   "id": "71bc67b9",
   "metadata": {},
   "source": [
    "1) What is the concept of a metaclass?\n",
    "\n",
    "Ans: Metaclass is a class whose instances are classes."
   ]
  },
  {
   "cell_type": "raw",
   "id": "6b1816b9",
   "metadata": {},
   "source": [
    "2) What is the best way to declare a class metaclass?\n",
    "\n",
    "Ans: custom metaclass."
   ]
  },
  {
   "cell_type": "raw",
   "id": "e5d347b5",
   "metadata": {},
   "source": [
    "3) How do class decorators overlap with metaclasses for handling classes?\n",
    "\n",
    "Ans: Decorator returns the original class, instances are made from it."
   ]
  }
 ],
 "metadata": {
  "kernelspec": {
   "display_name": "Python 3 (ipykernel)",
   "language": "python",
   "name": "python3"
  },
  "language_info": {
   "codemirror_mode": {
    "name": "ipython",
    "version": 3
   },
   "file_extension": ".py",
   "mimetype": "text/x-python",
   "name": "python",
   "nbconvert_exporter": "python",
   "pygments_lexer": "ipython3",
   "version": "3.9.7"
  }
 },
 "nbformat": 4,
 "nbformat_minor": 5
}
