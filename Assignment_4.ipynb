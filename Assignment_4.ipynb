{
 "cells": [
  {
   "cell_type": "raw",
   "id": "a7c576b1",
   "metadata": {},
   "source": [
    "Q1. Which two operator overloading methods can you use in your classes to support iteration?\n",
    "\n",
    "Ans:__iter__ tells to start the loop and __next__ starts giving next number in the loop."
   ]
  },
  {
   "cell_type": "raw",
   "id": "3f92a6ad",
   "metadata": {},
   "source": [
    "Q2. In what contexts do the two operator overloading methods manage printing?\n",
    "\n",
    "Ans:\n",
    "print(),__str__()"
   ]
  },
  {
   "cell_type": "raw",
   "id": "ab7e6c70",
   "metadata": {},
   "source": [
    "Q3. In a class, how  do  you intercept slice operations?\n",
    "\n",
    "Ans:\n",
    "__getitem__(),__len__()"
   ]
  },
  {
   "cell_type": "raw",
   "id": "7173add0",
   "metadata": {},
   "source": [
    "Q4. In a class, how do you capture in-place addition?\n",
    "\n",
    "Ans:\n",
    "iadd() "
   ]
  },
  {
   "cell_type": "raw",
   "id": "ba01d2d8",
   "metadata": {},
   "source": [
    "Q5. When is it appropriate to use operator overloading?\n",
    "\n",
    "Ans:\n",
    "When we want the same operator to perform different meaning."
   ]
  }
 ],
 "metadata": {
  "kernelspec": {
   "display_name": "Python 3 (ipykernel)",
   "language": "python",
   "name": "python3"
  },
  "language_info": {
   "codemirror_mode": {
    "name": "ipython",
    "version": 3
   },
   "file_extension": ".py",
   "mimetype": "text/x-python",
   "name": "python",
   "nbconvert_exporter": "python",
   "pygments_lexer": "ipython3",
   "version": "3.9.7"
  }
 },
 "nbformat": 4,
 "nbformat_minor": 5
}
