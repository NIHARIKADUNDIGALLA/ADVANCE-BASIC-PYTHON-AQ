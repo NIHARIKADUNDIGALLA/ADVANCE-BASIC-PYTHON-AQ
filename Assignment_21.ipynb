{
 "cells": [
  {
   "cell_type": "raw",
   "id": "e66cb7d2",
   "metadata": {},
   "source": [
    "1)What is a probability distribution?\n",
    "Ans:the probability distribution gives the possibility of each outcome of a random experiment or event.\n"
   ]
  },
  {
   "cell_type": "raw",
   "id": "ebe09a29",
   "metadata": {},
   "source": [
    "2) What are the two main factors that influence the behaviour of a \"normal\" probability distribution?\n",
    "\n",
    "Ans:mean and standard deviation."
   ]
  },
  {
   "cell_type": "raw",
   "id": "73e0fcb1",
   "metadata": {},
   "source": [
    "3)Provide a real-life example of a normal distribution.\n",
    "Ans:Height of people"
   ]
  },
  {
   "cell_type": "raw",
   "id": "84460aad",
   "metadata": {},
   "source": [
    "4)What is the relationship between exponentiation and logarithms?\n",
    "Ans:Logarithmic functions are the inverses of exponential functions."
   ]
  },
  {
   "cell_type": "raw",
   "id": "50b1b51c",
   "metadata": {},
   "source": [
    "5)how can you expect a probability distribution to behave?\n",
    "Ans: Determine whether each probability is greater than or equal to 0 and less than or equal to 1,\n",
    "    Determine whether the sum of all of the probabilities equals 1."
   ]
  },
  {
   "cell_type": "raw",
   "id": "31a0a597",
   "metadata": {},
   "source": []
  }
 ],
 "metadata": {
  "kernelspec": {
   "display_name": "Python 3 (ipykernel)",
   "language": "python",
   "name": "python3"
  },
  "language_info": {
   "codemirror_mode": {
    "name": "ipython",
    "version": 3
   },
   "file_extension": ".py",
   "mimetype": "text/x-python",
   "name": "python",
   "nbconvert_exporter": "python",
   "pygments_lexer": "ipython3",
   "version": "3.9.7"
  }
 },
 "nbformat": 4,
 "nbformat_minor": 5
}
