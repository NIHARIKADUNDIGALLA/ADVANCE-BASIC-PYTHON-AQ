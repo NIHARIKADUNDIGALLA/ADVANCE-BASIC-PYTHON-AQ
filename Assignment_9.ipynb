{
 "cells": [
  {
   "cell_type": "raw",
   "id": "eea38c16",
   "metadata": {},
   "source": [
    "1) In Python 3.X, what are the names and functions of string object types?\n",
    "\n",
    "Ans: str.isnumeric() which is true if string consists of only numeric , \n",
    "    str.isspace() which is true if string consists of any whitespace characters , \n",
    "    str.istitle() which is true if string is in title."
   ]
  },
  {
   "cell_type": "raw",
   "id": "47c0ba8d",
   "metadata": {},
   "source": [
    "2) In Python 3.X, what are the key differences between text-mode and binary-mode files?\n",
    "\n",
    "Ans: text mode is used to read and write text files and binary mode is used to read and write binary files."
   ]
  },
  {
   "cell_type": "raw",
   "id": "4db14f10",
   "metadata": {},
   "source": [
    "3) In 3.X, how do you put non-ASCII Unicode characters in a string?\n",
    "\n",
    "Ans :It allows Unicode string literals to be specified by adding a u character prefix before the string ."
   ]
  }
 ],
 "metadata": {
  "kernelspec": {
   "display_name": "Python 3 (ipykernel)",
   "language": "python",
   "name": "python3"
  },
  "language_info": {
   "codemirror_mode": {
    "name": "ipython",
    "version": 3
   },
   "file_extension": ".py",
   "mimetype": "text/x-python",
   "name": "python",
   "nbconvert_exporter": "python",
   "pygments_lexer": "ipython3",
   "version": "3.9.7"
  }
 },
 "nbformat": 4,
 "nbformat_minor": 5
}
