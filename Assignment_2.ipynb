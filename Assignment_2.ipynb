{
 "cells": [
  {
   "cell_type": "raw",
   "id": "39435337",
   "metadata": {},
   "source": [
    "1)What is the relationship between classes and modules?\n",
    "\n",
    "Ans)\n",
    "Classes generate objects and instance variables and Modules consists of methods."
   ]
  },
  {
   "cell_type": "raw",
   "id": "5b911d27",
   "metadata": {},
   "source": [
    "2)How do you make instances and classes?\n",
    "\n",
    "Ans)\n",
    "objects are created from classes by constructor and classes are created by class followed by classname and the argments are passes in __init__ method."
   ]
  },
  {
   "cell_type": "raw",
   "id": "bb7a2a2c",
   "metadata": {},
   "source": [
    "3)Where and how are instance attributes created?\n",
    "\n",
    "Ans)\n",
    "Instance attributes are defined in the constructor inside the class."
   ]
  },
  {
   "cell_type": "raw",
   "id": "bd82bf5c",
   "metadata": {},
   "source": [
    "4)What does the term \"self\" in a Python class mean?\n",
    "\n",
    "Ans)\n",
    "self represents the instance of the class. By using the “self” keyword we can access the attributes and methods \n",
    "of the class in python."
   ]
  },
  {
   "cell_type": "raw",
   "id": "ed980d84",
   "metadata": {},
   "source": [
    "5)How does a Python class handle operator overloading?\n",
    "\n",
    "Ans)Python has special function,whenever the particlar operator is called that function is invoked automatically.\n",
    "Example: If we use '+' operator, __add__ function is invoked."
   ]
  },
  {
   "cell_type": "raw",
   "id": "5594fb19",
   "metadata": {},
   "source": [
    "6)Where and how are class attributes created?\n",
    "\n",
    "Ans)class attributes are created in class and they are shared by all instances."
   ]
  },
  {
   "cell_type": "raw",
   "id": "390b0ca9",
   "metadata": {},
   "source": [
    "7)When do you consider allowing operator overloading of your classes?\n",
    "\n",
    "Ans)We consider allowing operator overloading of your classes when we want to perform a particular operation by operator \n",
    "on operands."
   ]
  },
  {
   "cell_type": "raw",
   "id": "ac505c6a",
   "metadata": {},
   "source": [
    "8)What is the most popular form of operator overloading?\n",
    "\n",
    "Ans)A very popular form of operator overloading is Addition."
   ]
  },
  {
   "cell_type": "raw",
   "id": "21555320",
   "metadata": {},
   "source": [
    "9) What are the two most important concepts to grasp in order to comprehend Python OOP code?\n",
    "\n",
    "Ans)Inheritance and Polymorphism."
   ]
  }
 ],
 "metadata": {
  "kernelspec": {
   "display_name": "Python 3 (ipykernel)",
   "language": "python",
   "name": "python3"
  },
  "language_info": {
   "codemirror_mode": {
    "name": "ipython",
    "version": 3
   },
   "file_extension": ".py",
   "mimetype": "text/x-python",
   "name": "python",
   "nbconvert_exporter": "python",
   "pygments_lexer": "ipython3",
   "version": "3.9.7"
  }
 },
 "nbformat": 4,
 "nbformat_minor": 5
}
