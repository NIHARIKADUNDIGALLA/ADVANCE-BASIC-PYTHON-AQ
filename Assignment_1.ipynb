{
 "cells": [
  {
   "cell_type": "raw",
   "id": "6e840ef3",
   "metadata": {},
   "source": [
    "1) What is the purpose of Python's OOP?\n",
    "\n",
    "Ans)OOP is a simple Object Oriented Programming which reuses objects and classes. "
   ]
  },
  {
   "cell_type": "raw",
   "id": "322324a9",
   "metadata": {},
   "source": [
    "2)Where does an inheritance search look for an attribute?\n",
    "\n",
    "Ans)namespace"
   ]
  },
  {
   "cell_type": "raw",
   "id": "1da3a598",
   "metadata": {},
   "source": [
    "3)How do you distinguish between a class object and an instance object?\n",
    "\n",
    "Ans)class object is a set of instances and instance object tells us certain specification."
   ]
  },
  {
   "cell_type": "raw",
   "id": "5adbbf71",
   "metadata": {},
   "source": [
    "4)What makes the first argument in a class’s method function special?\n",
    "\n",
    "Ans)__init__ which refers to the instance of the class."
   ]
  },
  {
   "cell_type": "raw",
   "id": "07c786d4",
   "metadata": {},
   "source": [
    "5) What is the purpose of the __init__ method?\n",
    "\n",
    "Ans)__init__ method takes the values of the instance and pass to the class.\n",
    "\n"
   ]
  },
  {
   "cell_type": "raw",
   "id": "f71b3484",
   "metadata": {},
   "source": [
    "6)What is the process for creating a class instance?\n",
    "\n",
    "Ans)We start by defining class followed by class name and define __init__ method and we create instances of class."
   ]
  },
  {
   "cell_type": "raw",
   "id": "1af18864",
   "metadata": {},
   "source": [
    "7)What is the process for creating a class?\n",
    "\n",
    "Ans)We define class followed by class name. Then we create instance and object, then we call the class."
   ]
  },
  {
   "cell_type": "raw",
   "id": "4f2a1698",
   "metadata": {},
   "source": [
    "8)How would you define the superclasses of a class?\n",
    "    \n",
    "Ans)We define by super class followed by the class name and arguments."
   ]
  }
 ],
 "metadata": {
  "kernelspec": {
   "display_name": "Python 3 (ipykernel)",
   "language": "python",
   "name": "python3"
  },
  "language_info": {
   "codemirror_mode": {
    "name": "ipython",
    "version": 3
   },
   "file_extension": ".py",
   "mimetype": "text/x-python",
   "name": "python",
   "nbconvert_exporter": "python",
   "pygments_lexer": "ipython3",
   "version": "3.9.7"
  }
 },
 "nbformat": 4,
 "nbformat_minor": 5
}
