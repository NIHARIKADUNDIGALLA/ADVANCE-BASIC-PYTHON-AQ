{
 "cells": [
  {
   "cell_type": "raw",
   "id": "d53933dd",
   "metadata": {},
   "source": [
    "1) What is the distinction between a numpy array and a pandas data frame?\n",
    "Ans:The Pandas module mainly works with the tabular data, whereas the NumPy module works with the numerical data."
   ]
  },
  {
   "cell_type": "raw",
   "id": "6cec7136",
   "metadata": {},
   "source": [
    "2) Identify some of the plotting techniques that are used to produce a stock-market chart.\n",
    "Ans:The bar chart looks a lot like the candlestick chart.\n",
    "    A line graph connects various data points to show specific patterns over a defined time horizon of interest \n",
    "    for an investor, and can also be known as a line plot or line chart."
   ]
  },
  {
   "cell_type": "raw",
   "id": "c1a83743",
   "metadata": {},
   "source": [
    "3) Why is it essential to print a legend on a stock market chart?\n",
    "Ans:The legend displays information about the points that are currently hovered over or, if none are hovered over, about the last points shown on the plot."
   ]
  },
  {
   "cell_type": "code",
   "execution_count": null,
   "id": "e9e9ddc6",
   "metadata": {},
   "outputs": [],
   "source": []
  }
 ],
 "metadata": {
  "kernelspec": {
   "display_name": "Python 3 (ipykernel)",
   "language": "python",
   "name": "python3"
  },
  "language_info": {
   "codemirror_mode": {
    "name": "ipython",
    "version": 3
   },
   "file_extension": ".py",
   "mimetype": "text/x-python",
   "name": "python",
   "nbconvert_exporter": "python",
   "pygments_lexer": "ipython3",
   "version": "3.9.7"
  }
 },
 "nbformat": 4,
 "nbformat_minor": 5
}
