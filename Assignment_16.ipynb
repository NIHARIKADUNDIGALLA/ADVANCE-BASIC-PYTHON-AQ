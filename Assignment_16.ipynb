{
 "cells": [
  {
   "cell_type": "code",
   "execution_count": 2,
   "id": "e49df3a8",
   "metadata": {},
   "outputs": [
    {
     "name": "stdout",
     "output_type": "stream",
     "text": [
      "<re.Match object; span=(0, 6), match='String'>\n",
      "<re.Match object; span=(0, 6), match='String'>\n",
      "<re.Match object; span=(4, 10), match='string'>\n",
      "None\n"
     ]
    }
   ],
   "source": [
    "#1)  What are some examples of how to use the match object returned by re.match and re.search?\n",
    "#Ans:\n",
    "\n",
    "import re\n",
    " \n",
    "Substring ='string'\n",
    "s1 = \"String are arrays\"\n",
    "s2 = \"The string are collection of characters\"\n",
    "\n",
    "print(re.search(Substring, s1, re.IGNORECASE))\n",
    "print(re.match(Substring, s1, re.IGNORECASE))\n",
    " \n",
    "\n",
    "print(re.search(Substring, s2, re.IGNORECASE))\n",
    "print(re.match(Substring, s2, re.IGNORECASE))"
   ]
  },
  {
   "cell_type": "raw",
   "id": "3daa7689",
   "metadata": {},
   "source": [
    "2) How does compiling a regular-expression object benefit you?\n",
    "Ans:Helps to search a pattern again without rewriting it."
   ]
  },
  {
   "cell_type": "code",
   "execution_count": null,
   "id": "81e2cc42",
   "metadata": {},
   "outputs": [],
   "source": [
    "3) What is the benefit of regular expressions?\n",
    "Ans:Regular expressions verify the structure of strings. extract substrings form structured strings."
   ]
  }
 ],
 "metadata": {
  "kernelspec": {
   "display_name": "Python 3 (ipykernel)",
   "language": "python",
   "name": "python3"
  },
  "language_info": {
   "codemirror_mode": {
    "name": "ipython",
    "version": 3
   },
   "file_extension": ".py",
   "mimetype": "text/x-python",
   "name": "python",
   "nbconvert_exporter": "python",
   "pygments_lexer": "ipython3",
   "version": "3.9.7"
  }
 },
 "nbformat": 4,
 "nbformat_minor": 5
}
