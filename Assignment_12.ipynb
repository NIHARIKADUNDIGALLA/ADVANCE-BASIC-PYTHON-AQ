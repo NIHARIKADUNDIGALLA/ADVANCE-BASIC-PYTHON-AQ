{
 "cells": [
  {
   "cell_type": "raw",
   "id": "6a42ecfd",
   "metadata": {},
   "source": [
    "1) What is the relationship between indexing and slicing?\n",
    "\n",
    "Ans:Indexing referring to an element of an iterable by its position within the iterable. \n",
    "    Slicing getting a subset of elements from an iterable based on their indices."
   ]
  },
  {
   "cell_type": "raw",
   "id": "1c3a645d",
   "metadata": {},
   "source": [
    "2) In Python, how many different ways are there to index a character?\n",
    "Ans: Positive and Negative indexing."
   ]
  },
  {
   "cell_type": "raw",
   "id": "00cbcc25",
   "metadata": {},
   "source": [
    "3) Which operators and built-in string methods produce simple Boolean (true/false) results?\n",
    "Ans: and , or , not."
   ]
  },
  {
   "cell_type": "raw",
   "id": "a82abf18",
   "metadata": {},
   "source": [
    "4) What is the relationship between string and character types in Python?\n",
    "Ans: Strings are ordered sequences of character data and character refers to a single letter , punctuation , space. "
   ]
  },
  {
   "cell_type": "code",
   "execution_count": null,
   "id": "e8d6ad11",
   "metadata": {},
   "outputs": [],
   "source": []
  }
 ],
 "metadata": {
  "kernelspec": {
   "display_name": "Python 3 (ipykernel)",
   "language": "python",
   "name": "python3"
  },
  "language_info": {
   "codemirror_mode": {
    "name": "ipython",
    "version": 3
   },
   "file_extension": ".py",
   "mimetype": "text/x-python",
   "name": "python",
   "nbconvert_exporter": "python",
   "pygments_lexer": "ipython3",
   "version": "3.9.7"
  }
 },
 "nbformat": 4,
 "nbformat_minor": 5
}
