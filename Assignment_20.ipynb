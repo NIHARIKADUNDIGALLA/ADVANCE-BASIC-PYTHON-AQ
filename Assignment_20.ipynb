{
 "cells": [
  {
   "cell_type": "raw",
   "id": "51e5e286",
   "metadata": {},
   "source": [
    "1)Compare and contrast the float and Decimal classes ?\n",
    "Ans:The difference between float and decimal is that float stores an approximate value and decimal stores an exact value."
   ]
  },
  {
   "cell_type": "raw",
   "id": "7c86d417",
   "metadata": {},
   "source": [
    "2)What are the three logarithmic functions that Python supports?\n",
    "Ans:log2(x) , log(x, Base) , log10(x)."
   ]
  },
  {
   "cell_type": "raw",
   "id": "b433093b",
   "metadata": {},
   "source": [
    "3)What kind of object can be shuffled by using random.shuffle?\n",
    "Ans:Use the random. shuffle() function to shuffle all the list elements randomly by passing the list as an argument\n",
    "    to it."
   ]
  },
  {
   "cell_type": "code",
   "execution_count": null,
   "id": "b0aca81b",
   "metadata": {},
   "outputs": [],
   "source": []
  }
 ],
 "metadata": {
  "kernelspec": {
   "display_name": "Python 3 (ipykernel)",
   "language": "python",
   "name": "python3"
  },
  "language_info": {
   "codemirror_mode": {
    "name": "ipython",
    "version": 3
   },
   "file_extension": ".py",
   "mimetype": "text/x-python",
   "name": "python",
   "nbconvert_exporter": "python",
   "pygments_lexer": "ipython3",
   "version": "3.9.7"
  }
 },
 "nbformat": 4,
 "nbformat_minor": 5
}
