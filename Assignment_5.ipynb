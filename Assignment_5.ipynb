{
 "cells": [
  {
   "cell_type": "raw",
   "id": "30518dca",
   "metadata": {},
   "source": [
    "Q1. What is the meaning of multiple inheritance?\n",
    "\n",
    "Ans:\n",
    "When the derived class has all the features of base class."
   ]
  },
  {
   "cell_type": "raw",
   "id": "52b603c6",
   "metadata": {},
   "source": [
    "Q2. What is the concept of delegation?\n",
    "\n",
    "Ans:\n",
    "The delegation is that allows object composition to achieve the same code reuse as inheritance."
   ]
  },
  {
   "cell_type": "raw",
   "id": "26a57b50",
   "metadata": {},
   "source": [
    "Q3. What is the concept of composition?\n",
    "\n",
    "Ans:\n",
    "Composition describes a class that references one or more objects of other classes in instance variables.\n",
    "\n"
   ]
  },
  {
   "cell_type": "raw",
   "id": "74c79bc3",
   "metadata": {},
   "source": [
    "Q4. What are bound methods and how do we use them?\n",
    "\n",
    "Ans:\n",
    "A bound method is the one which is dependent on the instance of the class as the first argument. \n",
    "It passes the instance as the first argument which is used to access the variables and functions."
   ]
  },
  {
   "cell_type": "raw",
   "id": "70428e59",
   "metadata": {},
   "source": [
    "Q5. What is the purpose of pseudoprivate attributes?\n",
    "\n",
    "Ans:\n",
    "it is a way to localize a name to the class that created it, and does not prevent access by code outside the class."
   ]
  }
 ],
 "metadata": {
  "kernelspec": {
   "display_name": "Python 3 (ipykernel)",
   "language": "python",
   "name": "python3"
  },
  "language_info": {
   "codemirror_mode": {
    "name": "ipython",
    "version": 3
   },
   "file_extension": ".py",
   "mimetype": "text/x-python",
   "name": "python",
   "nbconvert_exporter": "python",
   "pygments_lexer": "ipython3",
   "version": "3.9.7"
  }
 },
 "nbformat": 4,
 "nbformat_minor": 5
}
