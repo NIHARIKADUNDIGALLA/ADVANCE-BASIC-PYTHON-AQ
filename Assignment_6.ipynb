{
 "cells": [
  {
   "cell_type": "raw",
   "id": "dc412236",
   "metadata": {},
   "source": [
    "1) What happens if you don't do something extra to treat an exception?\n",
    "\n",
    "Ans : If we dont do something extra to treat an exception , the program terminates or it gives exception error."
   ]
  },
  {
   "cell_type": "raw",
   "id": "eab63318",
   "metadata": {},
   "source": [
    "2) Describe two methods for triggering exceptions in your script.\n",
    "\n",
    "Ans: The two methods for triggering exceptions in your script are try method and raise method. "
   ]
  },
  {
   "cell_type": "raw",
   "id": "efea4000",
   "metadata": {},
   "source": [
    "3) What are your options for recovering from an exception in your script?\n",
    "\n",
    "Ans: Except clause which handles exception. In else block we can include else clause , it excecutes when there is no error in try block."
   ]
  }
 ],
 "metadata": {
  "kernelspec": {
   "display_name": "Python 3 (ipykernel)",
   "language": "python",
   "name": "python3"
  },
  "language_info": {
   "codemirror_mode": {
    "name": "ipython",
    "version": 3
   },
   "file_extension": ".py",
   "mimetype": "text/x-python",
   "name": "python",
   "nbconvert_exporter": "python",
   "pygments_lexer": "ipython3",
   "version": "3.9.7"
  }
 },
 "nbformat": 4,
 "nbformat_minor": 5
}
