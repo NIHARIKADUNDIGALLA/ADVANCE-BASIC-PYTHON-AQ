{
 "cells": [
  {
   "cell_type": "raw",
   "id": "ab23a442",
   "metadata": {},
   "source": [
    "1.What is the concept of an abstract superclass?\n",
    "\n",
    "Ans:\n",
    "Abstract superclass is an common superclass for several subclasses and which provides reusable code."
   ]
  },
  {
   "cell_type": "raw",
   "id": "54a9e6e0",
   "metadata": {},
   "source": [
    "2. What happens when a class statement's top level contains a basic assignment statement?\n",
    "\n",
    "Ans:\n",
    "When a class statement's top level contains a basic assignment statement , then it can be accessed easily for any other functions also and subclasses.\n"
   ]
  },
  {
   "cell_type": "raw",
   "id": "f5890ce2",
   "metadata": {},
   "source": [
    "3. Why does a class need to manually call a superclass's __init__ method?\n",
    "\n",
    "Ans:\n",
    "Class need to manually call a superclass's __init__ method , as it calls the variables which are stored."
   ]
  },
  {
   "cell_type": "raw",
   "id": "c035a037",
   "metadata": {},
   "source": [
    "4. How can you augment, instead of completely replacing, an inherited method?\n",
    "\n",
    "Ans:\n",
    "It inherits action and messages."
   ]
  }
 ],
 "metadata": {
  "kernelspec": {
   "display_name": "Python 3 (ipykernel)",
   "language": "python",
   "name": "python3"
  },
  "language_info": {
   "codemirror_mode": {
    "name": "ipython",
    "version": 3
   },
   "file_extension": ".py",
   "mimetype": "text/x-python",
   "name": "python",
   "nbconvert_exporter": "python",
   "pygments_lexer": "ipython3",
   "version": "3.9.7"
  }
 },
 "nbformat": 4,
 "nbformat_minor": 5
}
