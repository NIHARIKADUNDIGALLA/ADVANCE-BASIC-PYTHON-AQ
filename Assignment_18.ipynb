{
 "cells": [
  {
   "cell_type": "raw",
   "id": "c9c2e76d",
   "metadata": {},
   "source": [
    "1)Describe the differences between text and binary files in a single paragraph.\n",
    "Ans:Binary and text files contain data stored as a series of bits .\n",
    "    The bits in text files represent characters, while the bits in binary files represent custom data.\n"
   ]
  },
  {
   "cell_type": "raw",
   "id": "f912c117",
   "metadata": {},
   "source": [
    "2)Describe a benefit of using the with keyword instead of explicitly opening a file.\n",
    "Ans: The statement is used in exception handling to make the code cleaner and much more readable. "
   ]
  },
  {
   "cell_type": "raw",
   "id": "6c24b33e",
   "metadata": {},
   "source": [
    "3)What file operations enable for random-access operation?\n",
    "Ans:Open a file,read or write , close a file."
   ]
  },
  {
   "cell_type": "raw",
   "id": "67800a0b",
   "metadata": {},
   "source": []
  }
 ],
 "metadata": {
  "kernelspec": {
   "display_name": "Python 3 (ipykernel)",
   "language": "python",
   "name": "python3"
  },
  "language_info": {
   "codemirror_mode": {
    "name": "ipython",
    "version": 3
   },
   "file_extension": ".py",
   "mimetype": "text/x-python",
   "name": "python",
   "nbconvert_exporter": "python",
   "pygments_lexer": "ipython3",
   "version": "3.9.7"
  }
 },
 "nbformat": 4,
 "nbformat_minor": 5
}
