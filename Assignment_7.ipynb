{
 "cells": [
  {
   "cell_type": "raw",
   "id": "bba2a9e8",
   "metadata": {},
   "source": [
    "1) What is the purpose of the try statement?\n",
    "\n",
    "Ans: The try statement excutes a piece of code to verify error."
   ]
  },
  {
   "cell_type": "raw",
   "id": "eb01f3da",
   "metadata": {},
   "source": [
    "2) What is the purpose of the raise statement?\n",
    "\n",
    "Ans: The raise statement raises exception when  block of code is encountered by an error."
   ]
  },
  {
   "cell_type": "raw",
   "id": "2d26daf2",
   "metadata": {},
   "source": [
    "3) What are the two most popular try statement variations?\n",
    "\n",
    "Ans: else and finally."
   ]
  }
 ],
 "metadata": {
  "kernelspec": {
   "display_name": "Python 3 (ipykernel)",
   "language": "python",
   "name": "python3"
  },
  "language_info": {
   "codemirror_mode": {
    "name": "ipython",
    "version": 3
   },
   "file_extension": ".py",
   "mimetype": "text/x-python",
   "name": "python",
   "nbconvert_exporter": "python",
   "pygments_lexer": "ipython3",
   "version": "3.9.7"
  }
 },
 "nbformat": 4,
 "nbformat_minor": 5
}
